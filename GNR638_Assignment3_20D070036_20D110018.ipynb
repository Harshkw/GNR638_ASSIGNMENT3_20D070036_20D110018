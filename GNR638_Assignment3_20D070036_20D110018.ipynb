{
  "nbformat": 4,
  "nbformat_minor": 0,
  "metadata": {
    "colab": {
      "provenance": [],
      "gpuType": "T4"
    },
    "kernelspec": {
      "name": "python3",
      "display_name": "Python 3"
    },
    "language_info": {
      "name": "python"
    },
    "accelerator": "GPU"
  },
  "cells": [
    {
      "cell_type": "code",
      "execution_count": 14,
      "metadata": {
        "colab": {
          "base_uri": "https://localhost:8080/"
        },
        "id": "2_6ITshgdLKg",
        "outputId": "131a7b38-2394-4558-ff89-bc4f711ae4a8"
      },
      "outputs": [
        {
          "output_type": "stream",
          "name": "stdout",
          "text": [
            "Device: cuda\n"
          ]
        },
        {
          "output_type": "stream",
          "name": "stderr",
          "text": [
            "100%|██████████| 58/58 [00:09<00:00,  5.89it/s]\n",
            "100%|██████████| 13/13 [03:07<00:00, 14.45s/it]\n"
          ]
        },
        {
          "output_type": "stream",
          "name": "stdout",
          "text": [
            "Epoch 1, Train Loss: 3.0193, Train Acc: 0.0823, Val Loss: 2.9512, Val Acc: 0.1724\n"
          ]
        },
        {
          "output_type": "stream",
          "name": "stderr",
          "text": [
            "100%|██████████| 58/58 [00:09<00:00,  6.15it/s]\n",
            "100%|██████████| 13/13 [00:02<00:00,  6.16it/s]\n"
          ]
        },
        {
          "output_type": "stream",
          "name": "stdout",
          "text": [
            "Epoch 2, Train Loss: 2.9421, Train Acc: 0.1824, Val Loss: 2.8838, Val Acc: 0.2365\n"
          ]
        },
        {
          "output_type": "stream",
          "name": "stderr",
          "text": [
            "100%|██████████| 58/58 [00:09<00:00,  6.14it/s]\n",
            "100%|██████████| 13/13 [00:01<00:00,  6.75it/s]\n"
          ]
        },
        {
          "output_type": "stream",
          "name": "stdout",
          "text": [
            "Epoch 3, Train Loss: 2.9090, Train Acc: 0.2100, Val Loss: 2.8998, Val Acc: 0.2217\n"
          ]
        },
        {
          "output_type": "stream",
          "name": "stderr",
          "text": [
            "100%|██████████| 58/58 [00:09<00:00,  6.00it/s]\n",
            "100%|██████████| 13/13 [00:01<00:00,  7.24it/s]\n"
          ]
        },
        {
          "output_type": "stream",
          "name": "stdout",
          "text": [
            "Epoch 4, Train Loss: 2.8989, Train Acc: 0.2181, Val Loss: 2.8700, Val Acc: 0.2463\n"
          ]
        },
        {
          "output_type": "stream",
          "name": "stderr",
          "text": [
            "100%|██████████| 58/58 [00:09<00:00,  5.91it/s]\n",
            "100%|██████████| 13/13 [00:01<00:00,  7.26it/s]\n"
          ]
        },
        {
          "output_type": "stream",
          "name": "stdout",
          "text": [
            "Epoch 5, Train Loss: 2.8843, Train Acc: 0.2327, Val Loss: 2.8146, Val Acc: 0.3054\n"
          ]
        },
        {
          "output_type": "stream",
          "name": "stderr",
          "text": [
            "100%|██████████| 58/58 [00:09<00:00,  5.85it/s]\n",
            "100%|██████████| 13/13 [00:01<00:00,  7.37it/s]\n"
          ]
        },
        {
          "output_type": "stream",
          "name": "stdout",
          "text": [
            "Epoch 6, Train Loss: 2.8292, Train Acc: 0.2960, Val Loss: 2.8215, Val Acc: 0.3030\n"
          ]
        },
        {
          "output_type": "stream",
          "name": "stderr",
          "text": [
            "100%|██████████| 58/58 [00:09<00:00,  5.92it/s]\n",
            "100%|██████████| 13/13 [00:01<00:00,  7.24it/s]\n"
          ]
        },
        {
          "output_type": "stream",
          "name": "stdout",
          "text": [
            "Epoch 7, Train Loss: 2.8327, Train Acc: 0.2906, Val Loss: 2.8129, Val Acc: 0.3054\n"
          ]
        },
        {
          "output_type": "stream",
          "name": "stderr",
          "text": [
            "100%|██████████| 58/58 [00:09<00:00,  5.94it/s]\n",
            "100%|██████████| 13/13 [00:01<00:00,  7.32it/s]\n"
          ]
        },
        {
          "output_type": "stream",
          "name": "stdout",
          "text": [
            "Epoch 8, Train Loss: 2.8228, Train Acc: 0.3003, Val Loss: 2.8103, Val Acc: 0.3054\n"
          ]
        },
        {
          "output_type": "stream",
          "name": "stderr",
          "text": [
            "100%|██████████| 58/58 [00:09<00:00,  5.92it/s]\n",
            "100%|██████████| 13/13 [00:01<00:00,  7.33it/s]\n"
          ]
        },
        {
          "output_type": "stream",
          "name": "stdout",
          "text": [
            "Epoch 9, Train Loss: 2.8192, Train Acc: 0.3036, Val Loss: 2.7765, Val Acc: 0.3374\n"
          ]
        },
        {
          "output_type": "stream",
          "name": "stderr",
          "text": [
            "100%|██████████| 58/58 [00:09<00:00,  6.04it/s]\n",
            "100%|██████████| 13/13 [00:02<00:00,  6.45it/s]\n"
          ]
        },
        {
          "output_type": "stream",
          "name": "stdout",
          "text": [
            "Epoch 10, Train Loss: 2.8193, Train Acc: 0.3014, Val Loss: 2.7751, Val Acc: 0.3399\n"
          ]
        },
        {
          "output_type": "stream",
          "name": "stderr",
          "text": [
            "100%|██████████| 58/58 [00:09<00:00,  6.19it/s]\n",
            "100%|██████████| 13/13 [00:02<00:00,  6.09it/s]\n"
          ]
        },
        {
          "output_type": "stream",
          "name": "stdout",
          "text": [
            "Epoch 11, Train Loss: 2.8181, Train Acc: 0.3030, Val Loss: 2.7834, Val Acc: 0.3399\n"
          ]
        },
        {
          "output_type": "stream",
          "name": "stderr",
          "text": [
            "100%|██████████| 58/58 [00:09<00:00,  6.04it/s]\n",
            "100%|██████████| 13/13 [00:01<00:00,  6.86it/s]\n"
          ]
        },
        {
          "output_type": "stream",
          "name": "stdout",
          "text": [
            "Epoch 12, Train Loss: 2.8085, Train Acc: 0.3144, Val Loss: 2.7938, Val Acc: 0.3300\n"
          ]
        },
        {
          "output_type": "stream",
          "name": "stderr",
          "text": [
            "100%|██████████| 58/58 [00:09<00:00,  5.96it/s]\n",
            "100%|██████████| 13/13 [00:01<00:00,  7.36it/s]\n"
          ]
        },
        {
          "output_type": "stream",
          "name": "stdout",
          "text": [
            "Epoch 13, Train Loss: 2.7751, Train Acc: 0.3458, Val Loss: 2.7639, Val Acc: 0.3571\n"
          ]
        },
        {
          "output_type": "stream",
          "name": "stderr",
          "text": [
            "100%|██████████| 58/58 [00:09<00:00,  5.90it/s]\n",
            "100%|██████████| 13/13 [00:01<00:00,  7.30it/s]\n"
          ]
        },
        {
          "output_type": "stream",
          "name": "stdout",
          "text": [
            "Epoch 14, Train Loss: 2.7972, Train Acc: 0.3247, Val Loss: 2.8667, Val Acc: 0.2537\n"
          ]
        },
        {
          "output_type": "stream",
          "name": "stderr",
          "text": [
            "100%|██████████| 58/58 [00:09<00:00,  5.87it/s]\n",
            "100%|██████████| 13/13 [00:01<00:00,  7.27it/s]\n"
          ]
        },
        {
          "output_type": "stream",
          "name": "stdout",
          "text": [
            "Epoch 15, Train Loss: 2.8332, Train Acc: 0.2890, Val Loss: 2.8539, Val Acc: 0.2586\n"
          ]
        },
        {
          "output_type": "stream",
          "name": "stderr",
          "text": [
            "100%|██████████| 58/58 [00:09<00:00,  5.87it/s]\n",
            "100%|██████████| 13/13 [00:01<00:00,  7.29it/s]\n"
          ]
        },
        {
          "output_type": "stream",
          "name": "stdout",
          "text": [
            "Epoch 16, Train Loss: 2.8140, Train Acc: 0.3095, Val Loss: 2.7380, Val Acc: 0.3793\n"
          ]
        },
        {
          "output_type": "stream",
          "name": "stderr",
          "text": [
            "100%|██████████| 58/58 [00:10<00:00,  5.79it/s]\n",
            "100%|██████████| 13/13 [00:01<00:00,  7.26it/s]\n"
          ]
        },
        {
          "output_type": "stream",
          "name": "stdout",
          "text": [
            "Epoch 17, Train Loss: 2.7743, Train Acc: 0.3490, Val Loss: 2.7647, Val Acc: 0.3596\n"
          ]
        },
        {
          "output_type": "stream",
          "name": "stderr",
          "text": [
            "100%|██████████| 58/58 [00:09<00:00,  5.91it/s]\n",
            "100%|██████████| 13/13 [00:01<00:00,  7.36it/s]\n"
          ]
        },
        {
          "output_type": "stream",
          "name": "stdout",
          "text": [
            "Epoch 18, Train Loss: 2.7597, Train Acc: 0.3636, Val Loss: 2.7311, Val Acc: 0.3818\n"
          ]
        },
        {
          "output_type": "stream",
          "name": "stderr",
          "text": [
            "100%|██████████| 58/58 [00:09<00:00,  6.01it/s]\n",
            "100%|██████████| 13/13 [00:01<00:00,  6.54it/s]\n"
          ]
        },
        {
          "output_type": "stream",
          "name": "stdout",
          "text": [
            "Epoch 19, Train Loss: 2.7458, Train Acc: 0.3777, Val Loss: 2.7387, Val Acc: 0.3867\n"
          ]
        },
        {
          "output_type": "stream",
          "name": "stderr",
          "text": [
            "100%|██████████| 58/58 [00:09<00:00,  6.14it/s]\n",
            "100%|██████████| 13/13 [00:02<00:00,  6.20it/s]\n"
          ]
        },
        {
          "output_type": "stream",
          "name": "stdout",
          "text": [
            "Epoch 20, Train Loss: 2.7617, Train Acc: 0.3609, Val Loss: 2.6901, Val Acc: 0.4187\n"
          ]
        },
        {
          "output_type": "stream",
          "name": "stderr",
          "text": [
            "100%|██████████| 58/58 [00:09<00:00,  6.14it/s]\n",
            "100%|██████████| 13/13 [00:01<00:00,  7.02it/s]\n"
          ]
        },
        {
          "output_type": "stream",
          "name": "stdout",
          "text": [
            "Epoch 21, Train Loss: 2.7599, Train Acc: 0.3626, Val Loss: 2.7019, Val Acc: 0.4138\n"
          ]
        },
        {
          "output_type": "stream",
          "name": "stderr",
          "text": [
            "100%|██████████| 58/58 [00:09<00:00,  5.90it/s]\n",
            "100%|██████████| 13/13 [00:01<00:00,  7.27it/s]\n"
          ]
        },
        {
          "output_type": "stream",
          "name": "stdout",
          "text": [
            "Epoch 22, Train Loss: 2.7438, Train Acc: 0.3810, Val Loss: 2.7186, Val Acc: 0.3990\n"
          ]
        },
        {
          "output_type": "stream",
          "name": "stderr",
          "text": [
            "100%|██████████| 58/58 [00:09<00:00,  5.89it/s]\n",
            "100%|██████████| 13/13 [00:01<00:00,  7.25it/s]\n"
          ]
        },
        {
          "output_type": "stream",
          "name": "stdout",
          "text": [
            "Epoch 23, Train Loss: 2.7765, Train Acc: 0.3469, Val Loss: 2.7075, Val Acc: 0.4138\n"
          ]
        },
        {
          "output_type": "stream",
          "name": "stderr",
          "text": [
            "100%|██████████| 58/58 [00:09<00:00,  5.89it/s]\n",
            "100%|██████████| 13/13 [00:01<00:00,  7.17it/s]\n"
          ]
        },
        {
          "output_type": "stream",
          "name": "stdout",
          "text": [
            "Epoch 24, Train Loss: 2.7476, Train Acc: 0.3739, Val Loss: 2.7094, Val Acc: 0.4163\n"
          ]
        },
        {
          "output_type": "stream",
          "name": "stderr",
          "text": [
            "100%|██████████| 58/58 [00:10<00:00,  5.79it/s]\n",
            "100%|██████████| 13/13 [00:01<00:00,  7.26it/s]\n"
          ]
        },
        {
          "output_type": "stream",
          "name": "stdout",
          "text": [
            "Epoch 25, Train Loss: 2.7464, Train Acc: 0.3750, Val Loss: 2.7040, Val Acc: 0.4113\n"
          ]
        },
        {
          "output_type": "stream",
          "name": "stderr",
          "text": [
            "100%|██████████| 58/58 [00:09<00:00,  5.92it/s]\n",
            "100%|██████████| 13/13 [00:01<00:00,  7.38it/s]\n"
          ]
        },
        {
          "output_type": "stream",
          "name": "stdout",
          "text": [
            "Epoch 26, Train Loss: 2.7412, Train Acc: 0.3826, Val Loss: 2.6884, Val Acc: 0.4335\n"
          ]
        },
        {
          "output_type": "stream",
          "name": "stderr",
          "text": [
            "100%|██████████| 58/58 [00:09<00:00,  5.92it/s]\n",
            "100%|██████████| 13/13 [00:01<00:00,  7.13it/s]\n"
          ]
        },
        {
          "output_type": "stream",
          "name": "stdout",
          "text": [
            "Epoch 27, Train Loss: 2.7297, Train Acc: 0.3945, Val Loss: 2.6709, Val Acc: 0.4409\n"
          ]
        },
        {
          "output_type": "stream",
          "name": "stderr",
          "text": [
            "100%|██████████| 58/58 [00:09<00:00,  6.08it/s]\n",
            "100%|██████████| 13/13 [00:02<00:00,  6.39it/s]\n"
          ]
        },
        {
          "output_type": "stream",
          "name": "stdout",
          "text": [
            "Epoch 28, Train Loss: 2.7333, Train Acc: 0.3912, Val Loss: 2.6586, Val Acc: 0.4606\n"
          ]
        },
        {
          "output_type": "stream",
          "name": "stderr",
          "text": [
            "100%|██████████| 58/58 [00:09<00:00,  6.11it/s]\n",
            "100%|██████████| 13/13 [00:02<00:00,  6.18it/s]\n"
          ]
        },
        {
          "output_type": "stream",
          "name": "stdout",
          "text": [
            "Epoch 29, Train Loss: 2.7262, Train Acc: 0.3961, Val Loss: 2.6977, Val Acc: 0.4236\n"
          ]
        },
        {
          "output_type": "stream",
          "name": "stderr",
          "text": [
            "100%|██████████| 58/58 [00:09<00:00,  6.06it/s]\n",
            "100%|██████████| 13/13 [00:01<00:00,  6.93it/s]\n"
          ]
        },
        {
          "output_type": "stream",
          "name": "stdout",
          "text": [
            "Epoch 30, Train Loss: 2.7456, Train Acc: 0.3777, Val Loss: 2.7046, Val Acc: 0.4163\n"
          ]
        },
        {
          "output_type": "stream",
          "name": "stderr",
          "text": [
            "100%|██████████| 58/58 [00:09<00:00,  5.96it/s]\n",
            "100%|██████████| 13/13 [00:01<00:00,  7.45it/s]\n"
          ]
        },
        {
          "output_type": "stream",
          "name": "stdout",
          "text": [
            "Epoch 31, Train Loss: 2.7316, Train Acc: 0.3912, Val Loss: 2.6703, Val Acc: 0.4483\n"
          ]
        },
        {
          "output_type": "stream",
          "name": "stderr",
          "text": [
            "100%|██████████| 58/58 [00:09<00:00,  5.95it/s]\n",
            "100%|██████████| 13/13 [00:01<00:00,  7.41it/s]\n"
          ]
        },
        {
          "output_type": "stream",
          "name": "stdout",
          "text": [
            "Epoch 32, Train Loss: 2.7276, Train Acc: 0.3966, Val Loss: 2.6807, Val Acc: 0.4409\n"
          ]
        },
        {
          "output_type": "stream",
          "name": "stderr",
          "text": [
            "100%|██████████| 58/58 [00:10<00:00,  5.79it/s]\n",
            "100%|██████████| 13/13 [00:01<00:00,  7.33it/s]\n"
          ]
        },
        {
          "output_type": "stream",
          "name": "stdout",
          "text": [
            "Epoch 33, Train Loss: 2.7131, Train Acc: 0.4091, Val Loss: 2.7252, Val Acc: 0.3916\n"
          ]
        },
        {
          "output_type": "stream",
          "name": "stderr",
          "text": [
            "100%|██████████| 58/58 [00:09<00:00,  5.90it/s]\n",
            "100%|██████████| 13/13 [00:01<00:00,  7.37it/s]\n"
          ]
        },
        {
          "output_type": "stream",
          "name": "stdout",
          "text": [
            "Epoch 34, Train Loss: 2.7412, Train Acc: 0.3815, Val Loss: 2.6510, Val Acc: 0.4704\n"
          ]
        },
        {
          "output_type": "stream",
          "name": "stderr",
          "text": [
            "100%|██████████| 58/58 [00:09<00:00,  5.99it/s]\n",
            "100%|██████████| 13/13 [00:01<00:00,  7.22it/s]\n"
          ]
        },
        {
          "output_type": "stream",
          "name": "stdout",
          "text": [
            "Epoch 35, Train Loss: 2.7237, Train Acc: 0.3983, Val Loss: 2.6602, Val Acc: 0.4631\n"
          ]
        },
        {
          "output_type": "stream",
          "name": "stderr",
          "text": [
            "100%|██████████| 58/58 [00:09<00:00,  5.91it/s]\n",
            "100%|██████████| 13/13 [00:01<00:00,  7.18it/s]\n"
          ]
        },
        {
          "output_type": "stream",
          "name": "stdout",
          "text": [
            "Epoch 36, Train Loss: 2.6991, Train Acc: 0.4226, Val Loss: 2.6624, Val Acc: 0.4631\n"
          ]
        },
        {
          "output_type": "stream",
          "name": "stderr",
          "text": [
            "100%|██████████| 58/58 [00:09<00:00,  6.09it/s]\n",
            "100%|██████████| 13/13 [00:02<00:00,  6.23it/s]\n"
          ]
        },
        {
          "output_type": "stream",
          "name": "stdout",
          "text": [
            "Epoch 37, Train Loss: 2.7270, Train Acc: 0.3956, Val Loss: 2.6572, Val Acc: 0.4631\n"
          ]
        },
        {
          "output_type": "stream",
          "name": "stderr",
          "text": [
            "100%|██████████| 58/58 [00:09<00:00,  6.13it/s]\n",
            "100%|██████████| 13/13 [00:02<00:00,  6.33it/s]\n"
          ]
        },
        {
          "output_type": "stream",
          "name": "stdout",
          "text": [
            "Epoch 38, Train Loss: 2.6920, Train Acc: 0.4307, Val Loss: 2.6381, Val Acc: 0.4803\n"
          ]
        },
        {
          "output_type": "stream",
          "name": "stderr",
          "text": [
            "100%|██████████| 58/58 [00:09<00:00,  6.06it/s]\n",
            "100%|██████████| 13/13 [00:01<00:00,  7.27it/s]\n"
          ]
        },
        {
          "output_type": "stream",
          "name": "stdout",
          "text": [
            "Epoch 39, Train Loss: 2.7166, Train Acc: 0.4075, Val Loss: 2.6776, Val Acc: 0.4433\n"
          ]
        },
        {
          "output_type": "stream",
          "name": "stderr",
          "text": [
            "100%|██████████| 58/58 [00:09<00:00,  5.91it/s]\n",
            "100%|██████████| 13/13 [00:01<00:00,  7.31it/s]\n"
          ]
        },
        {
          "output_type": "stream",
          "name": "stdout",
          "text": [
            "Epoch 40, Train Loss: 2.6986, Train Acc: 0.4248, Val Loss: 2.6318, Val Acc: 0.4828\n"
          ]
        },
        {
          "output_type": "stream",
          "name": "stderr",
          "text": [
            "100%|██████████| 58/58 [00:09<00:00,  5.92it/s]\n",
            "100%|██████████| 13/13 [00:01<00:00,  7.39it/s]\n"
          ]
        },
        {
          "output_type": "stream",
          "name": "stdout",
          "text": [
            "Epoch 41, Train Loss: 2.6813, Train Acc: 0.4416, Val Loss: 2.6432, Val Acc: 0.4704\n"
          ]
        },
        {
          "output_type": "stream",
          "name": "stderr",
          "text": [
            "100%|██████████| 58/58 [00:09<00:00,  5.93it/s]\n",
            "100%|██████████| 13/13 [00:01<00:00,  7.35it/s]\n"
          ]
        },
        {
          "output_type": "stream",
          "name": "stdout",
          "text": [
            "Epoch 42, Train Loss: 2.6783, Train Acc: 0.4443, Val Loss: 2.6449, Val Acc: 0.4680\n"
          ]
        },
        {
          "output_type": "stream",
          "name": "stderr",
          "text": [
            "100%|██████████| 58/58 [00:09<00:00,  5.88it/s]\n",
            "100%|██████████| 13/13 [00:01<00:00,  7.43it/s]\n"
          ]
        },
        {
          "output_type": "stream",
          "name": "stdout",
          "text": [
            "Epoch 43, Train Loss: 2.6849, Train Acc: 0.4394, Val Loss: 2.6208, Val Acc: 0.4951\n"
          ]
        },
        {
          "output_type": "stream",
          "name": "stderr",
          "text": [
            "100%|██████████| 58/58 [00:09<00:00,  5.91it/s]\n",
            "100%|██████████| 13/13 [00:01<00:00,  7.38it/s]\n"
          ]
        },
        {
          "output_type": "stream",
          "name": "stdout",
          "text": [
            "Epoch 44, Train Loss: 2.6836, Train Acc: 0.4383, Val Loss: 2.6309, Val Acc: 0.4852\n"
          ]
        },
        {
          "output_type": "stream",
          "name": "stderr",
          "text": [
            "100%|██████████| 58/58 [00:09<00:00,  5.98it/s]\n",
            "100%|██████████| 13/13 [00:01<00:00,  6.91it/s]\n"
          ]
        },
        {
          "output_type": "stream",
          "name": "stdout",
          "text": [
            "Epoch 45, Train Loss: 2.6804, Train Acc: 0.4437, Val Loss: 2.6504, Val Acc: 0.4655\n"
          ]
        },
        {
          "output_type": "stream",
          "name": "stderr",
          "text": [
            "100%|██████████| 58/58 [00:09<00:00,  6.20it/s]\n",
            "100%|██████████| 13/13 [00:02<00:00,  6.12it/s]\n"
          ]
        },
        {
          "output_type": "stream",
          "name": "stdout",
          "text": [
            "Epoch 46, Train Loss: 2.6735, Train Acc: 0.4486, Val Loss: 2.6467, Val Acc: 0.4704\n"
          ]
        },
        {
          "output_type": "stream",
          "name": "stderr",
          "text": [
            "100%|██████████| 58/58 [00:09<00:00,  6.16it/s]\n",
            "100%|██████████| 13/13 [00:01<00:00,  6.65it/s]\n"
          ]
        },
        {
          "output_type": "stream",
          "name": "stdout",
          "text": [
            "Epoch 47, Train Loss: 2.6695, Train Acc: 0.4535, Val Loss: 2.6714, Val Acc: 0.4458\n"
          ]
        },
        {
          "output_type": "stream",
          "name": "stderr",
          "text": [
            "100%|██████████| 58/58 [00:09<00:00,  6.03it/s]\n",
            "100%|██████████| 13/13 [00:01<00:00,  7.16it/s]\n"
          ]
        },
        {
          "output_type": "stream",
          "name": "stdout",
          "text": [
            "Epoch 48, Train Loss: 2.6703, Train Acc: 0.4518, Val Loss: 2.6507, Val Acc: 0.4680\n"
          ]
        },
        {
          "output_type": "stream",
          "name": "stderr",
          "text": [
            "100%|██████████| 58/58 [00:09<00:00,  5.98it/s]\n",
            "100%|██████████| 13/13 [00:01<00:00,  7.34it/s]\n"
          ]
        },
        {
          "output_type": "stream",
          "name": "stdout",
          "text": [
            "Epoch 49, Train Loss: 2.6775, Train Acc: 0.4470, Val Loss: 2.6614, Val Acc: 0.4532\n"
          ]
        },
        {
          "output_type": "stream",
          "name": "stderr",
          "text": [
            "100%|██████████| 58/58 [00:09<00:00,  5.90it/s]\n",
            "100%|██████████| 13/13 [00:01<00:00,  7.30it/s]\n"
          ]
        },
        {
          "output_type": "stream",
          "name": "stdout",
          "text": [
            "Epoch 50, Train Loss: 2.6832, Train Acc: 0.4394, Val Loss: 2.6200, Val Acc: 0.4951\n"
          ]
        },
        {
          "output_type": "stream",
          "name": "stderr",
          "text": [
            "100%|██████████| 58/58 [00:09<00:00,  5.90it/s]\n",
            "100%|██████████| 13/13 [00:01<00:00,  7.11it/s]\n"
          ]
        },
        {
          "output_type": "stream",
          "name": "stdout",
          "text": [
            "Epoch 51, Train Loss: 2.6629, Train Acc: 0.4605, Val Loss: 2.6077, Val Acc: 0.5074\n"
          ]
        },
        {
          "output_type": "stream",
          "name": "stderr",
          "text": [
            "100%|██████████| 58/58 [00:09<00:00,  5.84it/s]\n",
            "100%|██████████| 13/13 [00:01<00:00,  7.40it/s]\n"
          ]
        },
        {
          "output_type": "stream",
          "name": "stdout",
          "text": [
            "Epoch 52, Train Loss: 2.6559, Train Acc: 0.4670, Val Loss: 2.6547, Val Acc: 0.4606\n"
          ]
        },
        {
          "output_type": "stream",
          "name": "stderr",
          "text": [
            "100%|██████████| 58/58 [00:09<00:00,  5.91it/s]\n",
            "100%|██████████| 13/13 [00:01<00:00,  7.32it/s]\n"
          ]
        },
        {
          "output_type": "stream",
          "name": "stdout",
          "text": [
            "Epoch 53, Train Loss: 2.6775, Train Acc: 0.4443, Val Loss: 2.6196, Val Acc: 0.4975\n"
          ]
        },
        {
          "output_type": "stream",
          "name": "stderr",
          "text": [
            "100%|██████████| 58/58 [00:09<00:00,  5.99it/s]\n",
            "100%|██████████| 13/13 [00:01<00:00,  6.68it/s]\n"
          ]
        },
        {
          "output_type": "stream",
          "name": "stdout",
          "text": [
            "Epoch 54, Train Loss: 2.6791, Train Acc: 0.4443, Val Loss: 2.6171, Val Acc: 0.4951\n"
          ]
        },
        {
          "output_type": "stream",
          "name": "stderr",
          "text": [
            "100%|██████████| 58/58 [00:09<00:00,  6.16it/s]\n",
            "100%|██████████| 13/13 [00:02<00:00,  6.10it/s]\n"
          ]
        },
        {
          "output_type": "stream",
          "name": "stdout",
          "text": [
            "Epoch 55, Train Loss: 2.6836, Train Acc: 0.4394, Val Loss: 2.6830, Val Acc: 0.4310\n"
          ]
        },
        {
          "output_type": "stream",
          "name": "stderr",
          "text": [
            "100%|██████████| 58/58 [00:09<00:00,  6.17it/s]\n",
            "100%|██████████| 13/13 [00:01<00:00,  6.85it/s]\n"
          ]
        },
        {
          "output_type": "stream",
          "name": "stdout",
          "text": [
            "Epoch 56, Train Loss: 2.6585, Train Acc: 0.4637, Val Loss: 2.6096, Val Acc: 0.5025\n"
          ]
        },
        {
          "output_type": "stream",
          "name": "stderr",
          "text": [
            "100%|██████████| 58/58 [00:09<00:00,  5.96it/s]\n",
            "100%|██████████| 13/13 [00:01<00:00,  7.40it/s]\n"
          ]
        },
        {
          "output_type": "stream",
          "name": "stdout",
          "text": [
            "Epoch 57, Train Loss: 2.6492, Train Acc: 0.4746, Val Loss: 2.6218, Val Acc: 0.4926\n"
          ]
        },
        {
          "output_type": "stream",
          "name": "stderr",
          "text": [
            "100%|██████████| 58/58 [00:09<00:00,  5.92it/s]\n",
            "100%|██████████| 13/13 [00:01<00:00,  7.31it/s]\n"
          ]
        },
        {
          "output_type": "stream",
          "name": "stdout",
          "text": [
            "Epoch 58, Train Loss: 2.6493, Train Acc: 0.4740, Val Loss: 2.6031, Val Acc: 0.5099\n"
          ]
        },
        {
          "output_type": "stream",
          "name": "stderr",
          "text": [
            "100%|██████████| 58/58 [00:09<00:00,  5.85it/s]\n",
            "100%|██████████| 13/13 [00:01<00:00,  7.37it/s]\n"
          ]
        },
        {
          "output_type": "stream",
          "name": "stdout",
          "text": [
            "Epoch 59, Train Loss: 2.6311, Train Acc: 0.4903, Val Loss: 2.6014, Val Acc: 0.5123\n"
          ]
        },
        {
          "output_type": "stream",
          "name": "stderr",
          "text": [
            "100%|██████████| 58/58 [00:09<00:00,  5.89it/s]\n",
            "100%|██████████| 13/13 [00:01<00:00,  7.39it/s]\n"
          ]
        },
        {
          "output_type": "stream",
          "name": "stdout",
          "text": [
            "Epoch 60, Train Loss: 2.6359, Train Acc: 0.4876, Val Loss: 2.6466, Val Acc: 0.4680\n"
          ]
        },
        {
          "output_type": "stream",
          "name": "stderr",
          "text": [
            "100%|██████████| 58/58 [00:09<00:00,  5.82it/s]\n",
            "100%|██████████| 13/13 [00:01<00:00,  7.22it/s]\n"
          ]
        },
        {
          "output_type": "stream",
          "name": "stdout",
          "text": [
            "Epoch 61, Train Loss: 2.6181, Train Acc: 0.5054, Val Loss: 2.5698, Val Acc: 0.5468\n"
          ]
        },
        {
          "output_type": "stream",
          "name": "stderr",
          "text": [
            "100%|██████████| 58/58 [00:10<00:00,  5.76it/s]\n",
            "100%|██████████| 13/13 [00:01<00:00,  7.06it/s]\n"
          ]
        },
        {
          "output_type": "stream",
          "name": "stdout",
          "text": [
            "Epoch 62, Train Loss: 2.6165, Train Acc: 0.5060, Val Loss: 2.5897, Val Acc: 0.5246\n"
          ]
        },
        {
          "output_type": "stream",
          "name": "stderr",
          "text": [
            "100%|██████████| 58/58 [00:09<00:00,  6.01it/s]\n",
            "100%|██████████| 13/13 [00:01<00:00,  6.58it/s]\n"
          ]
        },
        {
          "output_type": "stream",
          "name": "stdout",
          "text": [
            "Epoch 63, Train Loss: 2.6153, Train Acc: 0.5070, Val Loss: 2.5587, Val Acc: 0.5567\n"
          ]
        },
        {
          "output_type": "stream",
          "name": "stderr",
          "text": [
            "100%|██████████| 58/58 [00:09<00:00,  6.06it/s]\n",
            "100%|██████████| 13/13 [00:02<00:00,  6.05it/s]\n"
          ]
        },
        {
          "output_type": "stream",
          "name": "stdout",
          "text": [
            "Epoch 64, Train Loss: 2.6500, Train Acc: 0.4740, Val Loss: 2.7304, Val Acc: 0.3941\n"
          ]
        },
        {
          "output_type": "stream",
          "name": "stderr",
          "text": [
            "100%|██████████| 58/58 [00:09<00:00,  6.01it/s]\n",
            "100%|██████████| 13/13 [00:02<00:00,  6.31it/s]\n"
          ]
        },
        {
          "output_type": "stream",
          "name": "stdout",
          "text": [
            "Epoch 65, Train Loss: 2.6489, Train Acc: 0.4746, Val Loss: 2.5722, Val Acc: 0.5419\n"
          ]
        },
        {
          "output_type": "stream",
          "name": "stderr",
          "text": [
            "100%|██████████| 58/58 [00:09<00:00,  5.88it/s]\n",
            "100%|██████████| 13/13 [00:01<00:00,  7.13it/s]\n"
          ]
        },
        {
          "output_type": "stream",
          "name": "stdout",
          "text": [
            "Epoch 66, Train Loss: 2.6141, Train Acc: 0.5097, Val Loss: 2.5529, Val Acc: 0.5616\n"
          ]
        },
        {
          "output_type": "stream",
          "name": "stderr",
          "text": [
            "100%|██████████| 58/58 [00:09<00:00,  5.81it/s]\n",
            "100%|██████████| 13/13 [00:01<00:00,  7.20it/s]\n"
          ]
        },
        {
          "output_type": "stream",
          "name": "stdout",
          "text": [
            "Epoch 67, Train Loss: 2.6002, Train Acc: 0.5227, Val Loss: 2.5499, Val Acc: 0.5640\n"
          ]
        },
        {
          "output_type": "stream",
          "name": "stderr",
          "text": [
            "100%|██████████| 58/58 [00:09<00:00,  5.88it/s]\n",
            "100%|██████████| 13/13 [00:01<00:00,  7.19it/s]\n"
          ]
        },
        {
          "output_type": "stream",
          "name": "stdout",
          "text": [
            "Epoch 68, Train Loss: 2.6048, Train Acc: 0.5179, Val Loss: 2.5802, Val Acc: 0.5345\n"
          ]
        },
        {
          "output_type": "stream",
          "name": "stderr",
          "text": [
            "100%|██████████| 58/58 [00:10<00:00,  5.79it/s]\n",
            "100%|██████████| 13/13 [00:01<00:00,  7.18it/s]\n"
          ]
        },
        {
          "output_type": "stream",
          "name": "stdout",
          "text": [
            "Epoch 69, Train Loss: 2.6139, Train Acc: 0.5087, Val Loss: 2.5486, Val Acc: 0.5640\n"
          ]
        },
        {
          "output_type": "stream",
          "name": "stderr",
          "text": [
            "100%|██████████| 58/58 [00:10<00:00,  5.76it/s]\n",
            "100%|██████████| 13/13 [00:01<00:00,  7.15it/s]\n"
          ]
        },
        {
          "output_type": "stream",
          "name": "stdout",
          "text": [
            "Epoch 70, Train Loss: 2.5852, Train Acc: 0.5384, Val Loss: 2.5689, Val Acc: 0.5443\n"
          ]
        },
        {
          "output_type": "stream",
          "name": "stderr",
          "text": [
            "100%|██████████| 58/58 [00:10<00:00,  5.79it/s]\n",
            "100%|██████████| 13/13 [00:01<00:00,  7.06it/s]\n"
          ]
        },
        {
          "output_type": "stream",
          "name": "stdout",
          "text": [
            "Epoch 71, Train Loss: 2.5958, Train Acc: 0.5276, Val Loss: 2.5665, Val Acc: 0.5493\n"
          ]
        },
        {
          "output_type": "stream",
          "name": "stderr",
          "text": [
            "100%|██████████| 58/58 [00:10<00:00,  5.79it/s]\n",
            "100%|██████████| 13/13 [00:01<00:00,  7.24it/s]\n"
          ]
        },
        {
          "output_type": "stream",
          "name": "stdout",
          "text": [
            "Epoch 72, Train Loss: 2.6001, Train Acc: 0.5222, Val Loss: 2.5550, Val Acc: 0.5616\n"
          ]
        },
        {
          "output_type": "stream",
          "name": "stderr",
          "text": [
            "100%|██████████| 58/58 [00:09<00:00,  5.85it/s]\n",
            "100%|██████████| 13/13 [00:01<00:00,  6.70it/s]\n"
          ]
        },
        {
          "output_type": "stream",
          "name": "stdout",
          "text": [
            "Epoch 73, Train Loss: 2.5820, Train Acc: 0.5406, Val Loss: 2.5505, Val Acc: 0.5665\n"
          ]
        },
        {
          "output_type": "stream",
          "name": "stderr",
          "text": [
            "100%|██████████| 58/58 [00:09<00:00,  6.07it/s]\n",
            "100%|██████████| 13/13 [00:02<00:00,  5.49it/s]\n"
          ]
        },
        {
          "output_type": "stream",
          "name": "stdout",
          "text": [
            "Epoch 74, Train Loss: 2.6022, Train Acc: 0.5222, Val Loss: 2.5643, Val Acc: 0.5517\n"
          ]
        },
        {
          "output_type": "stream",
          "name": "stderr",
          "text": [
            "100%|██████████| 58/58 [00:09<00:00,  6.06it/s]\n",
            "100%|██████████| 13/13 [00:02<00:00,  6.36it/s]\n"
          ]
        },
        {
          "output_type": "stream",
          "name": "stdout",
          "text": [
            "Epoch 75, Train Loss: 2.5804, Train Acc: 0.5422, Val Loss: 2.5558, Val Acc: 0.5591\n"
          ]
        },
        {
          "output_type": "stream",
          "name": "stderr",
          "text": [
            "100%|██████████| 58/58 [00:09<00:00,  5.90it/s]\n",
            "100%|██████████| 13/13 [00:01<00:00,  7.08it/s]\n"
          ]
        },
        {
          "output_type": "stream",
          "name": "stdout",
          "text": [
            "Epoch 76, Train Loss: 2.6246, Train Acc: 0.4978, Val Loss: 2.5484, Val Acc: 0.5640\n"
          ]
        },
        {
          "output_type": "stream",
          "name": "stderr",
          "text": [
            "100%|██████████| 58/58 [00:10<00:00,  5.74it/s]\n",
            "100%|██████████| 13/13 [00:01<00:00,  6.93it/s]\n"
          ]
        },
        {
          "output_type": "stream",
          "name": "stdout",
          "text": [
            "Epoch 77, Train Loss: 2.5703, Train Acc: 0.5530, Val Loss: 2.5396, Val Acc: 0.5764\n"
          ]
        },
        {
          "output_type": "stream",
          "name": "stderr",
          "text": [
            "100%|██████████| 58/58 [00:10<00:00,  5.66it/s]\n",
            "100%|██████████| 13/13 [00:01<00:00,  6.97it/s]\n"
          ]
        },
        {
          "output_type": "stream",
          "name": "stdout",
          "text": [
            "Epoch 78, Train Loss: 2.5672, Train Acc: 0.5552, Val Loss: 2.5383, Val Acc: 0.5788\n"
          ]
        },
        {
          "output_type": "stream",
          "name": "stderr",
          "text": [
            "100%|██████████| 58/58 [00:10<00:00,  5.75it/s]\n",
            "100%|██████████| 13/13 [00:01<00:00,  7.04it/s]\n"
          ]
        },
        {
          "output_type": "stream",
          "name": "stdout",
          "text": [
            "Epoch 79, Train Loss: 2.5821, Train Acc: 0.5406, Val Loss: 2.5276, Val Acc: 0.5887\n"
          ]
        },
        {
          "output_type": "stream",
          "name": "stderr",
          "text": [
            "100%|██████████| 58/58 [00:10<00:00,  5.70it/s]\n",
            "100%|██████████| 13/13 [00:01<00:00,  7.10it/s]\n"
          ]
        },
        {
          "output_type": "stream",
          "name": "stdout",
          "text": [
            "Epoch 80, Train Loss: 2.5778, Train Acc: 0.5449, Val Loss: 2.5355, Val Acc: 0.5788\n"
          ]
        },
        {
          "output_type": "stream",
          "name": "stderr",
          "text": [
            "100%|██████████| 58/58 [00:10<00:00,  5.75it/s]\n",
            "100%|██████████| 13/13 [00:01<00:00,  7.08it/s]\n"
          ]
        },
        {
          "output_type": "stream",
          "name": "stdout",
          "text": [
            "Epoch 81, Train Loss: 2.5935, Train Acc: 0.5292, Val Loss: 2.5360, Val Acc: 0.5813\n"
          ]
        },
        {
          "output_type": "stream",
          "name": "stderr",
          "text": [
            "100%|██████████| 58/58 [00:10<00:00,  5.76it/s]\n",
            "100%|██████████| 13/13 [00:01<00:00,  7.07it/s]\n"
          ]
        },
        {
          "output_type": "stream",
          "name": "stdout",
          "text": [
            "Epoch 82, Train Loss: 2.5653, Train Acc: 0.5590, Val Loss: 2.5416, Val Acc: 0.5739\n"
          ]
        },
        {
          "output_type": "stream",
          "name": "stderr",
          "text": [
            "100%|██████████| 58/58 [00:10<00:00,  5.79it/s]\n",
            "100%|██████████| 13/13 [00:01<00:00,  7.28it/s]\n"
          ]
        },
        {
          "output_type": "stream",
          "name": "stdout",
          "text": [
            "Epoch 83, Train Loss: 2.5656, Train Acc: 0.5563, Val Loss: 2.5302, Val Acc: 0.5837\n"
          ]
        },
        {
          "output_type": "stream",
          "name": "stderr",
          "text": [
            "100%|██████████| 58/58 [00:09<00:00,  5.92it/s]\n",
            "100%|██████████| 13/13 [00:01<00:00,  6.57it/s]\n"
          ]
        },
        {
          "output_type": "stream",
          "name": "stdout",
          "text": [
            "Epoch 84, Train Loss: 2.5506, Train Acc: 0.5720, Val Loss: 2.5172, Val Acc: 0.5985\n"
          ]
        },
        {
          "output_type": "stream",
          "name": "stderr",
          "text": [
            "100%|██████████| 58/58 [00:09<00:00,  5.95it/s]\n",
            "100%|██████████| 13/13 [00:02<00:00,  6.14it/s]\n"
          ]
        },
        {
          "output_type": "stream",
          "name": "stdout",
          "text": [
            "Epoch 85, Train Loss: 2.5479, Train Acc: 0.5758, Val Loss: 2.5060, Val Acc: 0.6108\n"
          ]
        },
        {
          "output_type": "stream",
          "name": "stderr",
          "text": [
            "100%|██████████| 58/58 [00:09<00:00,  6.02it/s]\n",
            "100%|██████████| 13/13 [00:02<00:00,  6.27it/s]\n"
          ]
        },
        {
          "output_type": "stream",
          "name": "stdout",
          "text": [
            "Epoch 86, Train Loss: 2.5450, Train Acc: 0.5785, Val Loss: 2.5060, Val Acc: 0.6108\n"
          ]
        },
        {
          "output_type": "stream",
          "name": "stderr",
          "text": [
            "100%|██████████| 58/58 [00:09<00:00,  5.96it/s]\n",
            "100%|██████████| 13/13 [00:01<00:00,  7.20it/s]\n"
          ]
        },
        {
          "output_type": "stream",
          "name": "stdout",
          "text": [
            "Epoch 87, Train Loss: 2.5366, Train Acc: 0.5860, Val Loss: 2.5212, Val Acc: 0.5936\n"
          ]
        },
        {
          "output_type": "stream",
          "name": "stderr",
          "text": [
            "100%|██████████| 58/58 [00:10<00:00,  5.79it/s]\n",
            "100%|██████████| 13/13 [00:01<00:00,  7.14it/s]\n"
          ]
        },
        {
          "output_type": "stream",
          "name": "stdout",
          "text": [
            "Epoch 88, Train Loss: 2.5396, Train Acc: 0.5828, Val Loss: 2.5142, Val Acc: 0.6010\n"
          ]
        },
        {
          "output_type": "stream",
          "name": "stderr",
          "text": [
            "100%|██████████| 58/58 [00:10<00:00,  5.74it/s]\n",
            "100%|██████████| 13/13 [00:01<00:00,  7.05it/s]\n"
          ]
        },
        {
          "output_type": "stream",
          "name": "stdout",
          "text": [
            "Epoch 89, Train Loss: 2.5404, Train Acc: 0.5833, Val Loss: 2.5220, Val Acc: 0.5936\n"
          ]
        },
        {
          "output_type": "stream",
          "name": "stderr",
          "text": [
            "100%|██████████| 58/58 [00:10<00:00,  5.69it/s]\n",
            "100%|██████████| 13/13 [00:01<00:00,  7.08it/s]\n"
          ]
        },
        {
          "output_type": "stream",
          "name": "stdout",
          "text": [
            "Epoch 90, Train Loss: 2.5679, Train Acc: 0.5541, Val Loss: 2.5384, Val Acc: 0.5764\n"
          ]
        },
        {
          "output_type": "stream",
          "name": "stderr",
          "text": [
            "100%|██████████| 58/58 [00:10<00:00,  5.73it/s]\n",
            "100%|██████████| 13/13 [00:01<00:00,  7.13it/s]\n"
          ]
        },
        {
          "output_type": "stream",
          "name": "stdout",
          "text": [
            "Epoch 91, Train Loss: 2.5725, Train Acc: 0.5498, Val Loss: 2.5142, Val Acc: 0.6010\n"
          ]
        },
        {
          "output_type": "stream",
          "name": "stderr",
          "text": [
            "100%|██████████| 58/58 [00:09<00:00,  5.82it/s]\n",
            "100%|██████████| 13/13 [00:01<00:00,  7.20it/s]\n"
          ]
        },
        {
          "output_type": "stream",
          "name": "stdout",
          "text": [
            "Epoch 92, Train Loss: 2.5484, Train Acc: 0.5752, Val Loss: 2.5176, Val Acc: 0.5985\n"
          ]
        },
        {
          "output_type": "stream",
          "name": "stderr",
          "text": [
            "100%|██████████| 58/58 [00:09<00:00,  5.85it/s]\n",
            "100%|██████████| 13/13 [00:01<00:00,  7.23it/s]\n"
          ]
        },
        {
          "output_type": "stream",
          "name": "stdout",
          "text": [
            "Epoch 93, Train Loss: 2.5485, Train Acc: 0.5752, Val Loss: 2.5012, Val Acc: 0.6133\n"
          ]
        },
        {
          "output_type": "stream",
          "name": "stderr",
          "text": [
            "100%|██████████| 58/58 [00:09<00:00,  5.88it/s]\n",
            "100%|██████████| 13/13 [00:01<00:00,  7.12it/s]\n"
          ]
        },
        {
          "output_type": "stream",
          "name": "stdout",
          "text": [
            "Epoch 94, Train Loss: 2.5476, Train Acc: 0.5752, Val Loss: 2.5071, Val Acc: 0.6084\n"
          ]
        },
        {
          "output_type": "stream",
          "name": "stderr",
          "text": [
            "100%|██████████| 58/58 [00:09<00:00,  5.99it/s]\n",
            "100%|██████████| 13/13 [00:02<00:00,  6.12it/s]\n"
          ]
        },
        {
          "output_type": "stream",
          "name": "stdout",
          "text": [
            "Epoch 95, Train Loss: 2.5374, Train Acc: 0.5850, Val Loss: 2.4876, Val Acc: 0.6305\n"
          ]
        },
        {
          "output_type": "stream",
          "name": "stderr",
          "text": [
            "100%|██████████| 58/58 [00:09<00:00,  6.13it/s]\n",
            "100%|██████████| 13/13 [00:02<00:00,  6.18it/s]\n"
          ]
        },
        {
          "output_type": "stream",
          "name": "stdout",
          "text": [
            "Epoch 96, Train Loss: 2.5351, Train Acc: 0.5871, Val Loss: 2.4947, Val Acc: 0.6207\n"
          ]
        },
        {
          "output_type": "stream",
          "name": "stderr",
          "text": [
            "100%|██████████| 58/58 [00:09<00:00,  6.05it/s]\n",
            "100%|██████████| 13/13 [00:01<00:00,  7.07it/s]\n"
          ]
        },
        {
          "output_type": "stream",
          "name": "stdout",
          "text": [
            "Epoch 97, Train Loss: 2.5401, Train Acc: 0.5828, Val Loss: 2.4870, Val Acc: 0.6305\n"
          ]
        },
        {
          "output_type": "stream",
          "name": "stderr",
          "text": [
            "100%|██████████| 58/58 [00:10<00:00,  5.75it/s]\n",
            "100%|██████████| 13/13 [00:01<00:00,  7.13it/s]\n"
          ]
        },
        {
          "output_type": "stream",
          "name": "stdout",
          "text": [
            "Epoch 98, Train Loss: 2.5232, Train Acc: 0.5990, Val Loss: 2.4837, Val Acc: 0.6330\n"
          ]
        },
        {
          "output_type": "stream",
          "name": "stderr",
          "text": [
            "100%|██████████| 58/58 [00:10<00:00,  5.80it/s]\n",
            "100%|██████████| 13/13 [00:01<00:00,  7.20it/s]\n"
          ]
        },
        {
          "output_type": "stream",
          "name": "stdout",
          "text": [
            "Epoch 99, Train Loss: 2.5317, Train Acc: 0.5925, Val Loss: 2.5042, Val Acc: 0.6133\n"
          ]
        },
        {
          "output_type": "stream",
          "name": "stderr",
          "text": [
            "100%|██████████| 58/58 [00:09<00:00,  5.84it/s]\n",
            "100%|██████████| 13/13 [00:01<00:00,  7.28it/s]\n"
          ]
        },
        {
          "output_type": "stream",
          "name": "stdout",
          "text": [
            "Epoch 100, Train Loss: 2.5266, Train Acc: 0.5963, Val Loss: 2.4871, Val Acc: 0.6305\n",
            "Model saved successfully!\n"
          ]
        }
      ],
      "source": [
        "import torch\n",
        "import torch.nn as nn\n",
        "import torch.optim as optim\n",
        "import torchvision.transforms as transforms\n",
        "import torchvision.datasets as datasets\n",
        "import matplotlib.pyplot as plt\n",
        "import numpy as np\n",
        "import cv2\n",
        "from torch.utils.data import DataLoader\n",
        "from scipy.ndimage import zoom\n",
        "from tqdm import tqdm\n",
        "\n",
        "\n",
        "# Define transformations\n",
        "transform = transforms.Compose([\n",
        "    transforms.Resize((128, 128)),\n",
        "    transforms.ToTensor(),\n",
        "    transforms.Normalize(mean=[0.5, 0.5, 0.5], std=[0.5, 0.5, 0.5])\n",
        "])\n",
        "\n",
        "# Load datasets\n",
        "train_dataset = datasets.ImageFolder(root=\"/content/drive/MyDrive/data/data/train\", transform=transform)\n",
        "val_dataset = datasets.ImageFolder(root=\"/content/drive/MyDrive/data/data/val\", transform=transform)\n",
        "test_dataset = datasets.ImageFolder(root=\"/content/drive/MyDrive/data/data/test\", transform=transform)\n",
        "\n",
        "# Data loaders\n",
        "batch_size = 32\n",
        "train_loader = DataLoader(train_dataset, batch_size=batch_size, shuffle=True)\n",
        "val_loader = DataLoader(val_dataset, batch_size=batch_size, shuffle=False)\n",
        "test_loader = DataLoader(test_dataset, batch_size=batch_size, shuffle=False)\n",
        "\n",
        "# Define CNN model\n",
        "class CNN(nn.Module):\n",
        "    def __init__(self, num_classes=21):\n",
        "        super(CNN, self).__init__()\n",
        "        self.conv1 = nn.Conv2d(3, 32, kernel_size=3, stride=1, padding=1)\n",
        "        self.conv2 = nn.Conv2d(32, 64, kernel_size=3, stride=1, padding=1)\n",
        "        self.conv3 = nn.Conv2d(64, 128, kernel_size=3, stride=1, padding=1)\n",
        "        self.pool = nn.MaxPool2d(kernel_size=2, stride=2)\n",
        "        self.fc1 = nn.Linear(128 * 16 * 16, 512)\n",
        "        self.fc2 = nn.Linear(512, num_classes)\n",
        "        self.relu = nn.ReLU()\n",
        "        self.dropout = nn.Dropout(0.5)\n",
        "        self.softmax = nn.Softmax(dim=1)\n",
        "\n",
        "    def forward(self, x):\n",
        "        x = self.relu(self.conv1(x))\n",
        "        x = self.pool(x)\n",
        "        x = self.relu(self.conv2(x))\n",
        "        x = self.pool(x)\n",
        "        x = self.relu(self.conv3(x))\n",
        "        feature_maps = x  # Store feature maps for CAM\n",
        "        x = self.pool(x)\n",
        "        x = x.view(x.size(0), -1)\n",
        "        x = self.relu(self.fc1(x))\n",
        "        x = self.dropout(x)\n",
        "        x = self.fc2(x)\n",
        "        x = self.softmax(x)\n",
        "        return x, feature_maps\n",
        "\n",
        "# Initialize model, loss function, and optimizer\n",
        "device = torch.device(\"cuda\" if torch.cuda.is_available() else \"cpu\")\n",
        "print(\"Device:\", device)\n",
        "model = CNN(num_classes=21).to(device)\n",
        "criterion = nn.CrossEntropyLoss()\n",
        "optimizer = optim.Adam(model.parameters(), lr=0.001)\n",
        "\n",
        "# Train and evaluate the model\n",
        "def train_model(model, train_loader, val_loader, criterion, optimizer, epochs=100):\n",
        "    for epoch in range(epochs):\n",
        "        model.train()\n",
        "        running_loss = 0.0\n",
        "        correct, total = 0, 0\n",
        "\n",
        "        for images, labels in tqdm(train_loader):\n",
        "            images, labels = images.to(device), labels.to(device)\n",
        "            optimizer.zero_grad()\n",
        "            outputs, _ = model(images)\n",
        "            loss = criterion(outputs, labels)\n",
        "            loss.backward()\n",
        "            optimizer.step()\n",
        "            running_loss += loss.item()\n",
        "            _, predicted = torch.max(outputs, 1)\n",
        "            total += labels.size(0)\n",
        "            correct += (predicted == labels).sum().item()\n",
        "\n",
        "        train_acc = correct / total\n",
        "\n",
        "        # Validation phase\n",
        "        model.eval()\n",
        "        val_loss = 0.0\n",
        "        val_correct, val_total = 0, 0\n",
        "\n",
        "        with torch.no_grad():\n",
        "            for val_images, val_labels in tqdm(val_loader):\n",
        "                val_images, val_labels = val_images.to(device), val_labels.to(device)\n",
        "                val_outputs, _ = model(val_images)\n",
        "                val_loss += criterion(val_outputs, val_labels).item()\n",
        "                _, val_predicted = torch.max(val_outputs, 1)\n",
        "                val_total += val_labels.size(0)\n",
        "                val_correct += (val_predicted == val_labels).sum().item()\n",
        "\n",
        "        val_acc = val_correct / val_total\n",
        "\n",
        "        print(f\"Epoch {epoch+1}, Train Loss: {running_loss/len(train_loader):.4f}, Train Acc: {train_acc:.4f}, \"\n",
        "              f\"Val Loss: {val_loss/len(val_loader):.4f}, Val Acc: {val_acc:.4f}\")\n",
        "\n",
        "    # Save the trained model\n",
        "    torch.save(model.state_dict(), f\"cnn_model_{epoch+1}.pth\")\n",
        "    print(\"Model saved successfully!\")\n",
        "\n",
        "# Train the model\n",
        "train_model(model, train_loader, val_loader, criterion, optimizer, epochs=100)\n"
      ]
    },
    {
      "cell_type": "code",
      "source": [
        "# Evaluation function\n",
        "def evaluate_model(model, loader):\n",
        "    model.eval()\n",
        "    correct, total = 0, 0\n",
        "    with torch.no_grad():\n",
        "        for images, labels in tqdm(loader):\n",
        "            images, labels = images.to(device), labels.to(device)\n",
        "            outputs = model(images)\n",
        "            _, predicted = torch.max(outputs[0], 1)\n",
        "            total += labels.size(0)\n",
        "            correct += (predicted == labels).sum().item()\n",
        "    return correct / total\n",
        "\n",
        "test_acc = evaluate_model(model, test_loader)\n",
        "print(f\"Test Accuracy: {test_acc:.4f}\")"
      ],
      "metadata": {
        "id": "R1gNMuiNeCVm",
        "colab": {
          "base_uri": "https://localhost:8080/"
        },
        "outputId": "fa98ed0c-88e2-462e-de1f-751504dc2726"
      },
      "execution_count": 15,
      "outputs": [
        {
          "output_type": "stream",
          "name": "stderr",
          "text": [
            "100%|██████████| 24/24 [00:03<00:00,  7.34it/s]"
          ]
        },
        {
          "output_type": "stream",
          "name": "stdout",
          "text": [
            "Test Accuracy: 0.6159\n"
          ]
        },
        {
          "output_type": "stream",
          "name": "stderr",
          "text": [
            "\n"
          ]
        }
      ]
    },
    {
      "cell_type": "code",
      "source": [
        "# CAM visualization function\n",
        "def generate_cam(model, image, H=128, W=128):\n",
        "    model.eval()\n",
        "    image = image.to(device).unsqueeze(0)\n",
        "    output, feature_maps = model(image)\n",
        "    predicted_class = torch.argmax(output, dim=1).item()\n",
        "\n",
        "    # Get the weights of the last fully connected layer\n",
        "    fc_weights = model.fc2.weight[predicted_class].cpu().detach().numpy()\n",
        "    feature_maps = feature_maps.squeeze(0).cpu().detach().numpy()\n",
        "\n",
        "    num_channels = min(len(fc_weights), feature_maps.shape[0])  # Ensure alignment\n",
        "    cam = np.zeros(feature_maps.shape[1:])\n",
        "    for i in range(num_channels):\n",
        "      cam += fc_weights[i] * feature_maps[i, :, :]\n",
        "\n",
        "    cam = zoom(cam, (H / cam.shape[0], W / cam.shape[1]))\n",
        "    cam = (cam - np.min(cam)) / (np.max(cam) - np.min(cam))\n",
        "\n",
        "    return cam\n",
        "\n",
        "# Function to overlay CAM on image\n",
        "def visualize_cam(model, image):\n",
        "    cam = generate_cam(model, image)\n",
        "    image_np = image.permute(1, 2, 0).cpu().numpy()\n",
        "    image_np = (image_np * 0.5) + 0.5  # Denormalize\n",
        "\n",
        "    heatmap = cv2.applyColorMap(np.uint8(255 * cam), cv2.COLORMAP_JET)\n",
        "    heatmap = cv2.cvtColor(heatmap, cv2.COLOR_BGR2RGB)\n",
        "    superimposed_img = (heatmap * 0.4 + image_np * 255).astype(np.uint8)\n",
        "\n",
        "    plt.figure(figsize=(6, 6))\n",
        "    plt.imshow(superimposed_img)\n",
        "    plt.axis(\"off\")\n",
        "    plt.show()"
      ],
      "metadata": {
        "id": "YNAZRcRE90Hw"
      },
      "execution_count": 16,
      "outputs": []
    },
    {
      "cell_type": "code",
      "source": [
        "# Visualize CAM for sample images\n",
        "sample_images, _ = next(iter(test_loader))\n",
        "for i in range(2):\n",
        "    visualize_cam(model, sample_images[i])"
      ],
      "metadata": {
        "id": "V-RQHd2VeDpN",
        "colab": {
          "base_uri": "https://localhost:8080/",
          "height": 981
        },
        "outputId": "73b3f275-b3c8-48c2-a432-62c8a0899ae7"
      },
      "execution_count": 17,
      "outputs": [
        {
          "output_type": "display_data",
          "data": {
            "text/plain": [
              "<Figure size 600x600 with 1 Axes>"
            ],
            "image/png": "[encoded data removed]"
          },
          "metadata": {}
        },
        {
          "output_type": "display_data",
          "data": {
            "text/plain": [
              "<Figure size 600x600 with 1 Axes>"
            ],
            "image/png": "[encoded data removed]"
          },
          "metadata": {}
        }
      ]
    }
  ]
}